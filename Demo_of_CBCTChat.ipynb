{
  "cells": [
    {
      "cell_type": "markdown",
      "source": [
        "#CBCTChat Demo Script\n",
        "This script provides a demonstration of the CBCTChat system that can query\n",
        "two different models with a given input text and display the results.\n",
        "\n",
        "\n",
        "---\n",
        "\n",
        "\n",
        "**Not for medical use. Data is processed by OpenAI**\n",
        "\n",
        "**Ensure that the S2 CBCT Guildeline is copied into the data folder and the OpenAI API key is set up before executing.**\n",
        "\n"
      ],
      "metadata": {
        "id": "CLfwpB2oRPLq"
      }
    },
    {
      "cell_type": "markdown",
      "metadata": {
        "id": "0QT-I4wfq7Ed"
      },
      "source": [
        "# Required Libraries\n",
        "Ensure these libraries are installed for the script to function correctly.\n"
      ]
    },
    {
      "cell_type": "code",
      "execution_count": 1,
      "metadata": {
        "colab": {
          "base_uri": "https://localhost:8080/"
        },
        "id": "aNsACX6kYTFy",
        "outputId": "457b2cdb-d4ce-437a-f033-8f95eab9d19e"
      },
      "outputs": [
        {
          "output_type": "stream",
          "name": "stdout",
          "text": [
            "\u001b[2K     \u001b[90m━━━━━━━━━━━━━━━━━━━━━━━━━━━━━━━━━━━━━━━━\u001b[0m \u001b[32m796.4/796.4 kB\u001b[0m \u001b[31m10.8 MB/s\u001b[0m eta \u001b[36m0:00:00\u001b[0m\n",
            "\u001b[2K     \u001b[90m━━━━━━━━━━━━━━━━━━━━━━━━━━━━━━━━━━━━━━━━\u001b[0m \u001b[32m1.9/1.9 MB\u001b[0m \u001b[31m49.8 MB/s\u001b[0m eta \u001b[36m0:00:00\u001b[0m\n",
            "\u001b[2K     \u001b[90m━━━━━━━━━━━━━━━━━━━━━━━━━━━━━━━━━━━━━━━━\u001b[0m \u001b[32m77.0/77.0 kB\u001b[0m \u001b[31m3.8 MB/s\u001b[0m eta \u001b[36m0:00:00\u001b[0m\n",
            "\u001b[2K     \u001b[90m━━━━━━━━━━━━━━━━━━━━━━━━━━━━━━━━━━━━━━━━\u001b[0m \u001b[32m2.0/2.0 MB\u001b[0m \u001b[31m35.2 MB/s\u001b[0m eta \u001b[36m0:00:00\u001b[0m\n",
            "\u001b[2K     \u001b[90m━━━━━━━━━━━━━━━━━━━━━━━━━━━━━━━━━━━━━━━━\u001b[0m \u001b[32m143.8/143.8 kB\u001b[0m \u001b[31m7.3 MB/s\u001b[0m eta \u001b[36m0:00:00\u001b[0m\n",
            "\u001b[2K     \u001b[90m━━━━━━━━━━━━━━━━━━━━━━━━━━━━━━━━━━━━━━━━\u001b[0m \u001b[32m49.4/49.4 kB\u001b[0m \u001b[31m2.6 MB/s\u001b[0m eta \u001b[36m0:00:00\u001b[0m\n",
            "\u001b[2K     \u001b[90m━━━━━━━━━━━━━━━━━━━━━━━━━━━━━━━━━━━━━━━━\u001b[0m \u001b[32m43.3/43.3 kB\u001b[0m \u001b[31m1.9 MB/s\u001b[0m eta \u001b[36m0:00:00\u001b[0m\n",
            "\u001b[?25h\u001b[31mERROR: pip's dependency resolver does not currently take into account all the packages that are installed. This behaviour is the source of the following dependency conflicts.\n",
            "llmx 0.0.15a0 requires cohere, which is not installed.\u001b[0m\u001b[31m\n",
            "\u001b[2K     \u001b[90m━━━━━━━━━━━━━━━━━━━━━━━━━━━━━━━━━━━━━━━━\u001b[0m \u001b[32m232.6/232.6 kB\u001b[0m \u001b[31m4.7 MB/s\u001b[0m eta \u001b[36m0:00:00\u001b[0m\n",
            "\u001b[2K     \u001b[90m━━━━━━━━━━━━━━━━━━━━━━━━━━━━━━━━━━━━━━━━\u001b[0m \u001b[32m277.4/277.4 kB\u001b[0m \u001b[31m4.8 MB/s\u001b[0m eta \u001b[36m0:00:00\u001b[0m\n",
            "\u001b[?25h"
          ]
        }
      ],
      "source": [
        "!pip install llama_index -q\n",
        "!pip install langchain -q\n",
        "!pip install PyPDF2 -q\n",
        "!pip install pypdf -q\n",
        "!pip install backoff -q"
      ]
    },
    {
      "cell_type": "markdown",
      "source": [
        "# Setting up API Key\n",
        "For security reasons, it's best to not hard-code API keys.\n",
        "Consider using environment variables or external configuration."
      ],
      "metadata": {
        "id": "8wtOvZdgJOkE"
      }
    },
    {
      "cell_type": "code",
      "execution_count": 2,
      "metadata": {
        "id": "tYmdZqKtYrfg"
      },
      "outputs": [],
      "source": [
        "import os\n",
        "import openai\n",
        "os.environ[\"OPENAI_API_KEY\"] = 'ENTER_API_CODE_HERE'\n",
        "# sometimes os.environ does not work, therefore enter twice\n",
        "openai.api_key = 'ENTER_API_CODE_HERE'"
      ]
    },
    {
      "cell_type": "markdown",
      "metadata": {
        "id": "DXAGdnADrIgG"
      },
      "source": [
        "# Create Index\n",
        "assuming guideline PDF-file is in /data/ Folder"
      ]
    },
    {
      "cell_type": "code",
      "execution_count": 20,
      "metadata": {
        "id": "XBwwxDBVYrU1"
      },
      "outputs": [],
      "source": [
        "import logging\n",
        "import sys\n",
        "import time\n",
        "import pandas as pd\n",
        "import pypdf\n",
        "import backoff\n",
        "import PyPDF2\n",
        "\n",
        "from llama_index import (GPTVectorStoreIndex, LLMPredictor,\n",
        "                         SimpleDirectoryReader, ServiceContext,\n",
        "                         StorageContext, load_index_from_storage)\n",
        "\n",
        "from llama_index.llms import OpenAI\n",
        "from llama_index.embeddings import OpenAIEmbedding\n",
        "\n",
        "\n",
        "# Initialize logging for better debugging and tracking.\n",
        "logging.basicConfig(stream=sys.stdout, level=logging.INFO)\n",
        "logging.getLogger().addHandler(logging.StreamHandler(stream=sys.stdout))\n",
        "\n",
        "# Constants and Configuration\n",
        "chunk_size = 256\n",
        "seconds = 6\n",
        "TIMEOUT = 120  # Timeout for API requests\n",
        "INPUT_FOLDER = 'data'\n",
        "\n",
        "\n",
        "\n",
        "def get_pdf_metadata(filepath):\n",
        "    \"\"\"\n",
        "    Extract metadata from a given PDF file.\n",
        "\n",
        "    Args:\n",
        "    - filepath (str): Path to the PDF file.\n",
        "\n",
        "    Returns:\n",
        "    - dict: A dictionary containing metadata of the PDF.\n",
        "    \"\"\"\n",
        "    with open(filepath, 'rb') as f:\n",
        "        pdf_reader = PyPDF2.PdfReader(f)\n",
        "        info = pdf_reader.metadata\n",
        "\n",
        "        metadata = {}\n",
        "        for key, value in info.items():\n",
        "            if key == '/Title':\n",
        "                metadata['title'] = value\n",
        "            else:\n",
        "                metadata[key] = value\n",
        "\n",
        "        if 'title' not in metadata:\n",
        "            filename = os.path.basename(filepath)\n",
        "            metadata['title'] = filename\n",
        "        return metadata\n",
        "\n",
        "# Initialize service context for indexing\n",
        "service_context = ServiceContext.from_defaults(chunk_size=chunk_size, embed_model=OpenAIEmbedding(embed_batch_size=150))\n",
        "# Load data from the directory and create an index\n",
        "documents = SimpleDirectoryReader(INPUT_FOLDER, file_metadata=get_pdf_metadata).load_data()\n",
        "index = GPTVectorStoreIndex.from_documents(documents, service_context=service_context)\n",
        "index.storage_context.persist(persist_dir=\"./DVT_index\")\n"
      ]
    },
    {
      "cell_type": "markdown",
      "metadata": {
        "id": "8RQPKerAraHn"
      },
      "source": [
        "# CBCTChat"
      ]
    },
    {
      "cell_type": "code",
      "source": [
        "import time\n",
        "from IPython.display import display, HTML\n",
        "from llama_index import QuestionAnswerPrompt, RefinePrompt\n",
        "from langchain.chat_models import ChatOpenAI\n",
        "\n",
        "\n",
        "# Set up parameters for two models\n",
        "MODEL1 = \"gpt-3.5-turbo\"\n",
        "MODEL2 = \"gpt-4\"\n",
        "TEMP = 0.6\n",
        "\n",
        "# Define templates for German language prompts\n",
        "GERMAN_QA_PROMPT_TMPL = (\n",
        "    \"Wir haben unten Kontextinformationen bereitgestellt. \\n\"\n",
        "    \"---------------------\\n\"\n",
        "    \"{context_str}\"\n",
        "    \"\\n---------------------\\n\"\n",
        "    \"Angesichts dieser Informationen, bitte beantworte folgende Frage: {query_str}\\n\"\n",
        ")\n",
        "GERMAN_QA_PROMPT = QuestionAnswerPrompt(GERMAN_QA_PROMPT_TMPL)\n",
        "\n",
        "GERMAN_REFINE_PROMPT_TMPL = (\n",
        "\"Die ursprüngliche Frage lautet wie folgt: {query_str}\\n\"\n",
        "    \"Wir haben eine ursprüngliche Antwort bereitgestellt: {existing_answer}\\n\"\n",
        "    \"Wir haben die Möglichkeit, die ursprüngliche Antwort zu verfeinern \"\n",
        "    \"(nur wenn nötig) mit etwas mehr Kontext unten.\\n\"\n",
        "    \"------------\\n\"\n",
        "    \"{context_msg}\\n\"\n",
        "    \"------------\\n\"\n",
        "    \"Angesichts des neuen Kontextes, verfeinern Sie die ursprüngliche Antwort \"\n",
        "    \"um die Frage besser zu beantworten. \"\n",
        "    \"Wenn der Kontext nicht nützlich ist, wiederhole exakt die ursprüngliche Antwort.\"\n",
        ")\n",
        "GERMAN_REFINE_PROMPT = RefinePrompt(GERMAN_REFINE_PROMPT_TMPL)\n",
        "\n",
        "# Create a QueryEngine\n",
        "query_engine = index.as_query_engine(service_context=service_context, text_qa_template=GERMAN_QA_PROMPT, refine_template=GERMAN_REFINE_PROMPT,\n",
        " response_mode=\"compact\", similarity_top_k=10)\n",
        "\n",
        "# Utility function to extract and format filenames from a given response.\n",
        "def get_filenames(response):\n",
        "    \"\"\"\n",
        "    Extract and format filenames from the given response.\n",
        "\n",
        "    Args:\n",
        "    - response (object): Response object containing metadata.\n",
        "\n",
        "    Returns:\n",
        "    - str: Comma-separated string of formatted filenames.\n",
        "    \"\"\"\n",
        "\n",
        "    base_url = \"https://register.awmf.org/assets/guidelines/\"\n",
        "    file_page_dict = {}\n",
        "\n",
        "    # Organize data into a dictionary\n",
        "    for doc_id, metadata in response.metadata.items():\n",
        "        title = metadata.get(\"title\")\n",
        "        page_label = metadata.get(\"page_label\")\n",
        "\n",
        "        if title:\n",
        "            if title not in file_page_dict:\n",
        "                file_page_dict[title] = set()  # Use a set instead of a list\n",
        "            if page_label:\n",
        "                file_page_dict[title].add(page_label)  # Add the page_label to the set\n",
        "\n",
        "    # Format the filenames as clickable links and list pages\n",
        "    filenames = []\n",
        "    for title, pages in file_page_dict.items():\n",
        "        pages = sorted(list(pages))  # Convert the set back to a list and sort it\n",
        "        title_link = f'<a href=\"{base_url + title}\" target=\"_blank\">{title}</a>'\n",
        "        if pages:\n",
        "            # Create links for each page\n",
        "            page_links = [f'<a href=\"{base_url + title}#page={page}\" target=\"_blank\">{page}</a>' for page in pages]\n",
        "            filenames.append(f'{title_link} (Seiten: {\", \".join(page_links)})')\n",
        "        else:\n",
        "            filenames.append(title_link)\n",
        "\n",
        "    return \", \".join(filenames)\n",
        "\n",
        "# Set up the LLMPredictor and ServiceContext for MODEL1\n",
        "llm_predictor_model1 = LLMPredictor(llm=ChatOpenAI(temperature=TEMP, model_name=MODEL1))\n",
        "service_context_model1 = ServiceContext.from_defaults(llm_predictor=llm_predictor_model1)\n",
        "\n",
        "# Set up the LLMPredictor and ServiceContext for MODEL2\n",
        "llm_predictor_model2 = LLMPredictor(llm=ChatOpenAI(temperature=TEMP, model_name=MODEL2))\n",
        "service_context_model2 = ServiceContext.from_defaults(llm_predictor=llm_predictor_model2)\n",
        "\n",
        "def query_single_text_model1(input_text):\n",
        "    \"\"\"\n",
        "    Query the first model with the given input text and display results.\n",
        "\n",
        "    Args:\n",
        "    - input_text (str): Text input for the query.\n",
        "    \"\"\"\n",
        "    display(HTML(f\"<b>Results from CBCT using {MODEL1}:</b>\"))\n",
        "    query_engine = index.as_query_engine(service_context=service_context_model1, text_qa_template=GERMAN_QA_PROMPT, refine_template=GERMAN_REFINE_PROMPT, response_mode=\"compact\", similarity_top_k=10)\n",
        "\n",
        "    # Query the index and get the response\n",
        "    response = query_engine.query(input_text)\n",
        "    output_accGPT = response.response#.replace('\\n', '\\\\n')\n",
        "\n",
        "    # Get the corresponding filenames\n",
        "    filenames = get_filenames(response)\n",
        "\n",
        "    # Display the outputs in HTML\n",
        "    display(HTML(f\"<b>Result:</b> {output_accGPT}\"))\n",
        "    display(HTML(f\"<b>Filenames:</b> {filenames}</p>\"))\n",
        "\n",
        "def query_single_text_model2(input_text):\n",
        "    \"\"\"\n",
        "    Query the second model with the given input text and display results.\n",
        "\n",
        "    Args:\n",
        "    - input_text (str): Text input for the query.\n",
        "    \"\"\"\n",
        "    display(HTML(f\"<b>Results from CBCT using {MODEL2}:</b>\"))\n",
        "    query_engine = index.as_query_engine(service_context=service_context_model2, text_qa_template=GERMAN_QA_PROMPT, refine_template=GERMAN_REFINE_PROMPT, response_mode=\"compact\", similarity_top_k=10)\n",
        "\n",
        "    # Query the index and get the response\n",
        "    response = query_engine.query(input_text)\n",
        "    output_accGPT = response.response#.replace('\\n', '\\\\n')\n",
        "\n",
        "    # Get the corresponding filenames\n",
        "    filenames = get_filenames(response)\n",
        "\n",
        "    # Display the outputs in HTML\n",
        "    display(HTML(f\"<b>Result:</b> {output_accGPT}\"))\n",
        "    display(HTML(f\"<b>Filenames:</b> {filenames}</p>\"))\n"
      ],
      "metadata": {
        "id": "bj7rUP9PMrS-"
      },
      "execution_count": 22,
      "outputs": []
    },
    {
      "cell_type": "markdown",
      "source": [
        "# Run CBCTChat with Question Answer input"
      ],
      "metadata": {
        "id": "N4H7kQoQOK28"
      }
    },
    {
      "cell_type": "code",
      "source": [
        "input_text = \"Sollte eine DVT bei Kindern bei jedem Zahnarztbesuch durchgeführt werden?\"\n",
        "\n",
        "query_single_text_model1(input_text)\n",
        "query_single_text_model2(input_text)"
      ],
      "metadata": {
        "colab": {
          "base_uri": "https://localhost:8080/",
          "height": 237
        },
        "id": "8Adg_V3hMuf5",
        "outputId": "194b384c-7ef8-4832-faa3-38a5baf71a04"
      },
      "execution_count": 23,
      "outputs": [
        {
          "output_type": "display_data",
          "data": {
            "text/plain": [
              "<IPython.core.display.HTML object>"
            ],
            "text/html": [
              "<b>Results from CBCT using gpt-3.5-turbo:</b>"
            ]
          },
          "metadata": {}
        },
        {
          "output_type": "display_data",
          "data": {
            "text/plain": [
              "<IPython.core.display.HTML object>"
            ],
            "text/html": [
              "<b>Result:</b> Nein, eine DVT sollte bei Kindern nicht bei jedem Zahnarztbesuch durchgeführt werden. Die Indikation für eine DVT bei Kindern und Jugendlichen sollte besonders streng gestellt werden, da es noch keine ausreichende Evidenz für die Anwendung der DVT-Technik in dieser Altersgruppe gibt. Die mit der DVT-Diagnostik verbundene erhöhte Strahlendosis und die limitierten Forschungsergebnisse zu den Indikationen der DVT bei Kindern machen eine strenge Indikationsstellung notwendig. Stattdessen wird empfohlen, dreidimensionale Techniken wie MRT zu bevorzugen, um Strahlenbelastungen zu minimieren."
            ]
          },
          "metadata": {}
        },
        {
          "output_type": "display_data",
          "data": {
            "text/plain": [
              "<IPython.core.display.HTML object>"
            ],
            "text/html": [
              "<b>Filenames:</b> <a href=\"https://register.awmf.org/assets/guidelines/083-005l_S2k_Dentale-digitale-Volumentomographie-DVT_2023-02_1.pdf\" target=\"_blank\">083-005l_S2k_Dentale-digitale-Volumentomographie-DVT_2023-02_1.pdf</a> (Seiten: <a href=\"https://register.awmf.org/assets/guidelines/083-005l_S2k_Dentale-digitale-Volumentomographie-DVT_2023-02_1.pdf#page=19\" target=\"_blank\">19</a>, <a href=\"https://register.awmf.org/assets/guidelines/083-005l_S2k_Dentale-digitale-Volumentomographie-DVT_2023-02_1.pdf#page=20\" target=\"_blank\">20</a>, <a href=\"https://register.awmf.org/assets/guidelines/083-005l_S2k_Dentale-digitale-Volumentomographie-DVT_2023-02_1.pdf#page=21\" target=\"_blank\">21</a>, <a href=\"https://register.awmf.org/assets/guidelines/083-005l_S2k_Dentale-digitale-Volumentomographie-DVT_2023-02_1.pdf#page=26\" target=\"_blank\">26</a>, <a href=\"https://register.awmf.org/assets/guidelines/083-005l_S2k_Dentale-digitale-Volumentomographie-DVT_2023-02_1.pdf#page=37\" target=\"_blank\">37</a>, <a href=\"https://register.awmf.org/assets/guidelines/083-005l_S2k_Dentale-digitale-Volumentomographie-DVT_2023-02_1.pdf#page=40\" target=\"_blank\">40</a>, <a href=\"https://register.awmf.org/assets/guidelines/083-005l_S2k_Dentale-digitale-Volumentomographie-DVT_2023-02_1.pdf#page=41\" target=\"_blank\">41</a>)</p>"
            ]
          },
          "metadata": {}
        },
        {
          "output_type": "display_data",
          "data": {
            "text/plain": [
              "<IPython.core.display.HTML object>"
            ],
            "text/html": [
              "<b>Results from CBCT using gpt-4:</b>"
            ]
          },
          "metadata": {}
        },
        {
          "output_type": "display_data",
          "data": {
            "text/plain": [
              "<IPython.core.display.HTML object>"
            ],
            "text/html": [
              "<b>Result:</b> Nein, eine DVT (Dentale-digitale-Volumentomographie) sollte nicht bei jedem Zahnarztbesuch bei Kindern durchgeführt werden. Die Anwendung der DVT-Technik im Kindes- und Jugendalter sollte sorgfältig abgewogen werden, da es noch keine ausreichende Evidenz für viele Fragestellungen gibt. Zudem weisen Kinder und Jugendliche ein überproportional erhöhtes inhärentes Risiko für Strahlenschäden auf. Daher wird empfohlen, die Indikation besonders streng zu stellen und die mit der DVT-Diagnostik verbundene erhöhte Dosis zu beachten. Laut den konsensbasierten Empfehlungen ist die DVT zur Kariesdiagnostik nicht indiziert und sollte nicht als generelle Methode bei Verdacht auf Unterkieferfrakturen eingesetzt werden. Bei notwendiger bildgebender Diagnostik sollte aus Gründen der Strahlenhygiene bei Kindern und Jugendlichen bevorzugt ein MRT angewendet werden."
            ]
          },
          "metadata": {}
        },
        {
          "output_type": "display_data",
          "data": {
            "text/plain": [
              "<IPython.core.display.HTML object>"
            ],
            "text/html": [
              "<b>Filenames:</b> <a href=\"https://register.awmf.org/assets/guidelines/083-005l_S2k_Dentale-digitale-Volumentomographie-DVT_2023-02_1.pdf\" target=\"_blank\">083-005l_S2k_Dentale-digitale-Volumentomographie-DVT_2023-02_1.pdf</a> (Seiten: <a href=\"https://register.awmf.org/assets/guidelines/083-005l_S2k_Dentale-digitale-Volumentomographie-DVT_2023-02_1.pdf#page=19\" target=\"_blank\">19</a>, <a href=\"https://register.awmf.org/assets/guidelines/083-005l_S2k_Dentale-digitale-Volumentomographie-DVT_2023-02_1.pdf#page=20\" target=\"_blank\">20</a>, <a href=\"https://register.awmf.org/assets/guidelines/083-005l_S2k_Dentale-digitale-Volumentomographie-DVT_2023-02_1.pdf#page=21\" target=\"_blank\">21</a>, <a href=\"https://register.awmf.org/assets/guidelines/083-005l_S2k_Dentale-digitale-Volumentomographie-DVT_2023-02_1.pdf#page=26\" target=\"_blank\">26</a>, <a href=\"https://register.awmf.org/assets/guidelines/083-005l_S2k_Dentale-digitale-Volumentomographie-DVT_2023-02_1.pdf#page=37\" target=\"_blank\">37</a>, <a href=\"https://register.awmf.org/assets/guidelines/083-005l_S2k_Dentale-digitale-Volumentomographie-DVT_2023-02_1.pdf#page=40\" target=\"_blank\">40</a>, <a href=\"https://register.awmf.org/assets/guidelines/083-005l_S2k_Dentale-digitale-Volumentomographie-DVT_2023-02_1.pdf#page=41\" target=\"_blank\">41</a>)</p>"
            ]
          },
          "metadata": {}
        }
      ]
    }
  ],
  "metadata": {
    "colab": {
      "collapsed_sections": [
        "0QT-I4wfq7Ed"
      ],
      "provenance": []
    },
    "kernelspec": {
      "display_name": "Python 3",
      "name": "python3"
    },
    "language_info": {
      "name": "python"
    }
  },
  "nbformat": 4,
  "nbformat_minor": 0
}